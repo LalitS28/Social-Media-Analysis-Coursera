{
 "cells": [
  {
   "cell_type": "markdown",
   "id": "028b1af3",
   "metadata": {},
   "source": [
    "## Task 1- Import Required Libraries"
   ]
  },
  {
   "cell_type": "code",
   "execution_count": 2,
   "id": "5935df1c",
   "metadata": {},
   "outputs": [],
   "source": [
    "import pandas as pd\n",
    "import numpy as np\n",
    "import matplotlib.pyplot as plt\n",
    "import seaborn as sb\n",
    "import random as rd"
   ]
  },
  {
   "cell_type": "markdown",
   "id": "2fd9e332",
   "metadata": {},
   "source": [
    "## Task 2 - Generate random social media data"
   ]
  },
  {
   "cell_type": "code",
   "execution_count": 3,
   "id": "a88678cd",
   "metadata": {},
   "outputs": [],
   "source": [
    "# list of categories\n",
    "categories = ['Food', 'Fashion', 'Fitness', 'Music', 'Culture', 'Family', 'Health']"
   ]
  },
  {
   "cell_type": "code",
   "execution_count": 7,
   "id": "7388b2ab",
   "metadata": {},
   "outputs": [
    {
     "name": "stdout",
     "output_type": "stream",
     "text": [
      "{'Date': DatetimeIndex(['2021-01-01', '2021-01-02', '2021-01-03', '2021-01-04',\n",
      "               '2021-01-05', '2021-01-06', '2021-01-07', '2021-01-08',\n",
      "               '2021-01-09', '2021-01-10',\n",
      "               ...\n",
      "               '2022-05-06', '2022-05-07', '2022-05-08', '2022-05-09',\n",
      "               '2022-05-10', '2022-05-11', '2022-05-12', '2022-05-13',\n",
      "               '2022-05-14', '2022-05-15'],\n",
      "              dtype='datetime64[ns]', length=500, freq='D'), 'Category': ['Family', 'Fashion', 'Culture', 'Fashion', 'Food', 'Culture', 'Culture', 'Family', 'Fitness', 'Music', 'Fashion', 'Fashion', 'Fashion', 'Fitness', 'Family', 'Food', 'Fashion', 'Music', 'Culture', 'Music', 'Culture', 'Fashion', 'Health', 'Food', 'Music', 'Food', 'Music', 'Health', 'Food', 'Food', 'Family', 'Fashion', 'Music', 'Health', 'Family', 'Food', 'Health', 'Family', 'Culture', 'Fashion', 'Family', 'Health', 'Health', 'Family', 'Food', 'Fitness', 'Health', 'Music', 'Culture', 'Food', 'Music', 'Family', 'Fitness', 'Fitness', 'Music', 'Fashion', 'Fashion', 'Food', 'Fitness', 'Health', 'Music', 'Fitness', 'Fashion', 'Health', 'Music', 'Fashion', 'Music', 'Family', 'Music', 'Music', 'Fitness', 'Food', 'Culture', 'Food', 'Culture', 'Music', 'Music', 'Food', 'Music', 'Health', 'Fitness', 'Music', 'Family', 'Health', 'Culture', 'Music', 'Music', 'Family', 'Food', 'Family', 'Culture', 'Fashion', 'Food', 'Culture', 'Health', 'Fitness', 'Fitness', 'Family', 'Fitness', 'Culture', 'Fitness', 'Family', 'Fashion', 'Music', 'Food', 'Culture', 'Health', 'Music', 'Health', 'Music', 'Health', 'Health', 'Fitness', 'Music', 'Health', 'Health', 'Family', 'Fitness', 'Fashion', 'Music', 'Health', 'Fashion', 'Food', 'Fashion', 'Health', 'Food', 'Family', 'Culture', 'Music', 'Culture', 'Health', 'Music', 'Food', 'Fitness', 'Food', 'Health', 'Health', 'Health', 'Music', 'Fitness', 'Fitness', 'Culture', 'Music', 'Family', 'Family', 'Culture', 'Food', 'Culture', 'Fashion', 'Music', 'Culture', 'Fitness', 'Music', 'Fitness', 'Food', 'Health', 'Fashion', 'Family', 'Music', 'Fashion', 'Culture', 'Fitness', 'Family', 'Food', 'Fashion', 'Food', 'Family', 'Food', 'Culture', 'Health', 'Culture', 'Culture', 'Food', 'Culture', 'Music', 'Fashion', 'Culture', 'Health', 'Food', 'Food', 'Music', 'Food', 'Music', 'Fashion', 'Fitness', 'Health', 'Fitness', 'Health', 'Fitness', 'Fitness', 'Culture', 'Culture', 'Fitness', 'Fitness', 'Health', 'Culture', 'Fitness', 'Music', 'Fashion', 'Food', 'Culture', 'Family', 'Fashion', 'Family', 'Fitness', 'Culture', 'Music', 'Food', 'Family', 'Fitness', 'Food', 'Fitness', 'Fitness', 'Fitness', 'Music', 'Music', 'Culture', 'Music', 'Culture', 'Family', 'Health', 'Food', 'Culture', 'Health', 'Food', 'Family', 'Culture', 'Health', 'Food', 'Family', 'Fitness', 'Family', 'Culture', 'Fashion', 'Health', 'Fitness', 'Family', 'Fashion', 'Culture', 'Fashion', 'Fitness', 'Fashion', 'Food', 'Fitness', 'Culture', 'Family', 'Food', 'Fitness', 'Culture', 'Fashion', 'Culture', 'Culture', 'Health', 'Culture', 'Family', 'Music', 'Food', 'Music', 'Family', 'Fitness', 'Fitness', 'Culture', 'Fashion', 'Food', 'Music', 'Music', 'Culture', 'Health', 'Family', 'Family', 'Fitness', 'Food', 'Health', 'Music', 'Health', 'Music', 'Music', 'Family', 'Music', 'Health', 'Culture', 'Family', 'Family', 'Family', 'Fitness', 'Culture', 'Family', 'Culture', 'Health', 'Family', 'Fashion', 'Family', 'Culture', 'Culture', 'Health', 'Culture', 'Culture', 'Fitness', 'Fashion', 'Family', 'Fitness', 'Fitness', 'Family', 'Health', 'Music', 'Family', 'Fashion', 'Family', 'Music', 'Fashion', 'Music', 'Fitness', 'Culture', 'Culture', 'Culture', 'Music', 'Health', 'Fitness', 'Music', 'Music', 'Music', 'Food', 'Culture', 'Health', 'Food', 'Fitness', 'Family', 'Food', 'Food', 'Family', 'Fitness', 'Music', 'Fashion', 'Fashion', 'Fitness', 'Music', 'Fashion', 'Fitness', 'Family', 'Health', 'Family', 'Food', 'Culture', 'Health', 'Food', 'Food', 'Food', 'Food', 'Health', 'Health', 'Health', 'Culture', 'Food', 'Music', 'Music', 'Food', 'Culture', 'Food', 'Health', 'Fashion', 'Culture', 'Food', 'Music', 'Health', 'Food', 'Culture', 'Family', 'Health', 'Food', 'Fashion', 'Culture', 'Health', 'Fashion', 'Health', 'Culture', 'Fashion', 'Fashion', 'Music', 'Music', 'Food', 'Music', 'Food', 'Culture', 'Family', 'Fashion', 'Family', 'Music', 'Fitness', 'Health', 'Food', 'Music', 'Health', 'Music', 'Fitness', 'Health', 'Fitness', 'Food', 'Culture', 'Health', 'Family', 'Health', 'Music', 'Fitness', 'Fitness', 'Fashion', 'Fashion', 'Health', 'Health', 'Music', 'Music', 'Food', 'Food', 'Fitness', 'Food', 'Music', 'Food', 'Music', 'Family', 'Fashion', 'Fashion', 'Culture', 'Fashion', 'Culture', 'Fitness', 'Music', 'Music', 'Culture', 'Music', 'Food', 'Fashion', 'Fitness', 'Fashion', 'Fashion', 'Fashion', 'Fitness', 'Family', 'Music', 'Culture', 'Family', 'Fitness', 'Fitness', 'Music', 'Food', 'Culture', 'Fashion', 'Food', 'Fashion', 'Fashion', 'Health', 'Fitness', 'Fitness', 'Family', 'Fitness', 'Culture', 'Food', 'Music', 'Fitness', 'Music', 'Music', 'Fashion', 'Music', 'Food', 'Health', 'Food', 'Family', 'Fitness', 'Family', 'Family', 'Food', 'Fitness', 'Fashion', 'Fashion', 'Food', 'Culture', 'Fashion', 'Health', 'Culture', 'Music', 'Music', 'Family', 'Culture', 'Music', 'Fitness', 'Fitness', 'Food', 'Health', 'Family', 'Food', 'Music', 'Music', 'Health', 'Fitness', 'Culture', 'Health', 'Fitness', 'Food', 'Music', 'Fitness', 'Fashion', 'Food'], 'Likes': array([9833, 3410, 2878, 3744, 6484, 7167,  290, 2906, 4825,  985, 8805,\n",
      "       3592, 3617, 4571, 9341, 8005, 9536, 2997, 8803, 8699, 4216, 9857,\n",
      "        450,  755, 7659, 3717, 7138,  801, 2124, 1707, 2923, 1803, 4201,\n",
      "       1061, 4123, 8504, 9570, 5253, 3874, 4052, 7377, 2032, 1202, 6145,\n",
      "       8678, 9614, 1923, 7710, 5125, 8319, 1409, 2472, 8164, 1297, 8497,\n",
      "       8429, 4177, 5606, 3128, 3076, 1769, 5348,  597, 4090, 9915, 6813,\n",
      "        448, 6852, 3371, 3040, 2018, 6899, 2445, 3115,   44, 3264, 7782,\n",
      "       7801, 7037,  632, 3245,  478, 1602, 6305, 3103, 9294, 4513,  889,\n",
      "       4019, 9882, 9763, 8197,  838, 9065, 9229, 4461, 7254,  896,  747,\n",
      "       8782, 2450, 2459, 3263, 9940, 7439, 9200, 2379,  770, 6844, 9528,\n",
      "       7645, 1424, 5069, 7962, 8874, 5557, 6608, 6200, 7855, 8066, 6377,\n",
      "       7998, 2873, 5143, 6396, 2480, 4709, 8991, 1759, 3414,  962, 6654,\n",
      "       7372, 2501, 7907, 2116, 9718, 9411, 6799, 6769,  334, 3694, 1167,\n",
      "       6311, 6152, 9716, 5343, 5014, 1739, 2811, 1666, 4397, 2650, 3842,\n",
      "        285, 2307, 8078, 9170, 6379, 4251, 4540, 8421, 6146, 2041, 6280,\n",
      "       2802, 3733, 1769, 8307, 2343, 6855, 3529, 1962, 9037, 5316, 3290,\n",
      "       8525, 6689, 1230, 8160, 3404, 2998, 2996, 4613, 2398, 7837, 5966,\n",
      "       3564, 1960, 2192, 6273,  517, 2989, 8864, 3732, 9144, 8913, 2661,\n",
      "        611, 1952, 2652, 9483, 6943, 2853, 6290, 7746, 2917, 1921, 7588,\n",
      "       5454, 4227, 1898, 8263, 6851, 1933, 2611, 2772, 1286, 5677, 2743,\n",
      "       7221, 9473, 3679, 3634, 4240, 4525, 1746, 1137, 6946, 3355, 5859,\n",
      "       6917, 7163, 5475, 2577, 3513, 3452, 2320, 3150,  839, 9944, 9313,\n",
      "       7352, 4759, 6002, 3450, 7102, 7965, 5361, 6595, 2154, 9524, 5396,\n",
      "       2112, 8442,  156, 6097, 6157, 1225, 5676, 8002,  875, 8101, 3562,\n",
      "       4223, 4677, 2673, 3723, 4661, 2441, 8502,  800, 9561, 5503, 9509,\n",
      "       8144, 7540, 7327, 9407, 9079, 3659, 6888, 2858, 4129, 3815, 7328,\n",
      "       5712, 4974, 4655, 1084, 7466, 7030, 4665, 4945, 3736, 2798, 5926,\n",
      "       1021, 4652, 8062, 6816, 8944, 9658,  172, 6743, 9689, 4547, 4056,\n",
      "       2213, 7773, 4632, 3306, 6971, 7690, 2184, 9393, 6618,  563, 6614,\n",
      "       5986,  382,  964, 6456, 9412, 7518, 7747, 1418, 6660, 6350, 3667,\n",
      "       8633,  611, 3692, 5314, 6188, 2538, 6883, 3843, 5472, 2895, 5561,\n",
      "       2441, 9960, 5387, 6353, 1098, 5496,  839, 5369, 7888, 9767, 2205,\n",
      "       2081, 7763, 1454,  411, 3938, 9679, 2552, 8168, 8509,  632, 4388,\n",
      "       6155, 4144, 6059, 5302, 7450, 2790, 1122, 3319, 3091, 8310, 2960,\n",
      "       3801, 6269,  334, 5509, 2545,  778, 5529, 9734, 8382, 6792, 7263,\n",
      "       2478, 7596, 5446, 6685, 5592, 5439, 5148, 5369, 2849, 3309, 7437,\n",
      "       3328, 8038, 8268,  128, 7505, 2456, 3988, 5934,  946,  609, 8609,\n",
      "       9104, 2663, 1623, 1166, 8923,  112, 3799, 1449, 1109, 2465, 9816,\n",
      "       1525, 1800, 6411, 5676, 1857, 4933, 5516, 2335, 8083, 5336, 7109,\n",
      "       6760,  765, 6283, 4617, 5656, 6281, 3932, 8370, 9100,  315, 8626,\n",
      "       7619, 5662, 7033, 5840, 6347, 5287, 2813, 8159, 3527, 2851, 6823,\n",
      "       9631, 6865, 6105, 9572, 8155, 8979, 3795,  172, 3931, 1573, 5767,\n",
      "       1360, 4887, 2025, 1582, 4898, 5604, 4268, 5972, 7025, 6025, 6529,\n",
      "       8988,  738, 2236, 4256, 8466, 3525, 3362, 8068, 4587,  304, 7976,\n",
      "        682, 1155, 2569,  681, 8390, 7771, 9464, 5012, 7025, 6481, 5366,\n",
      "       6131, 4800,   70, 4270, 3540])}\n"
     ]
    }
   ],
   "source": [
    "data = {\n",
    "    'Date' : pd.date_range('2021-01-01', periods = 500),\n",
    "    'Category' : [rd.choice(categories) for _ in range(500)],\n",
    "    'Likes' : np.random.randint(0, 10000, size = 500)\n",
    "}\n",
    "\n",
    "print(data)"
   ]
  },
  {
   "cell_type": "markdown",
   "id": "8ec52086",
   "metadata": {},
   "source": [
    "## Task 3 - Load the data into a pandas dataframe and explore"
   ]
  },
  {
   "cell_type": "code",
   "execution_count": 8,
   "id": "b52d2255",
   "metadata": {},
   "outputs": [
    {
     "data": {
      "text/html": [
       "<div>\n",
       "<style scoped>\n",
       "    .dataframe tbody tr th:only-of-type {\n",
       "        vertical-align: middle;\n",
       "    }\n",
       "\n",
       "    .dataframe tbody tr th {\n",
       "        vertical-align: top;\n",
       "    }\n",
       "\n",
       "    .dataframe thead th {\n",
       "        text-align: right;\n",
       "    }\n",
       "</style>\n",
       "<table border=\"1\" class=\"dataframe\">\n",
       "  <thead>\n",
       "    <tr style=\"text-align: right;\">\n",
       "      <th></th>\n",
       "      <th>Date</th>\n",
       "      <th>Category</th>\n",
       "      <th>Likes</th>\n",
       "    </tr>\n",
       "  </thead>\n",
       "  <tbody>\n",
       "    <tr>\n",
       "      <th>0</th>\n",
       "      <td>2021-01-01</td>\n",
       "      <td>Family</td>\n",
       "      <td>9833</td>\n",
       "    </tr>\n",
       "    <tr>\n",
       "      <th>1</th>\n",
       "      <td>2021-01-02</td>\n",
       "      <td>Fashion</td>\n",
       "      <td>3410</td>\n",
       "    </tr>\n",
       "    <tr>\n",
       "      <th>2</th>\n",
       "      <td>2021-01-03</td>\n",
       "      <td>Culture</td>\n",
       "      <td>2878</td>\n",
       "    </tr>\n",
       "    <tr>\n",
       "      <th>3</th>\n",
       "      <td>2021-01-04</td>\n",
       "      <td>Fashion</td>\n",
       "      <td>3744</td>\n",
       "    </tr>\n",
       "    <tr>\n",
       "      <th>4</th>\n",
       "      <td>2021-01-05</td>\n",
       "      <td>Food</td>\n",
       "      <td>6484</td>\n",
       "    </tr>\n",
       "  </tbody>\n",
       "</table>\n",
       "</div>"
      ],
      "text/plain": [
       "        Date Category  Likes\n",
       "0 2021-01-01   Family   9833\n",
       "1 2021-01-02  Fashion   3410\n",
       "2 2021-01-03  Culture   2878\n",
       "3 2021-01-04  Fashion   3744\n",
       "4 2021-01-05     Food   6484"
      ]
     },
     "execution_count": 8,
     "metadata": {},
     "output_type": "execute_result"
    }
   ],
   "source": [
    "# convert the dictionary into a dataframe\n",
    "data = pd.DataFrame(data)\n",
    "\n",
    "#show first five elements of the dataframe\n",
    "data.head()"
   ]
  },
  {
   "cell_type": "code",
   "execution_count": 20,
   "id": "f7be3c3e",
   "metadata": {},
   "outputs": [
    {
     "name": "stdout",
     "output_type": "stream",
     "text": [
      "<class 'pandas.core.frame.DataFrame'>\n",
      "RangeIndex: 500 entries, 0 to 499\n",
      "Data columns (total 3 columns):\n",
      " #   Column    Non-Null Count  Dtype         \n",
      "---  ------    --------------  -----         \n",
      " 0   Date      500 non-null    datetime64[ns]\n",
      " 1   Category  500 non-null    object        \n",
      " 2   Likes     500 non-null    int32         \n",
      "dtypes: datetime64[ns](1), int32(1), object(1)\n",
      "memory usage: 9.9+ KB\n"
     ]
    }
   ],
   "source": [
    "# show dataframe information\n",
    "data.info()"
   ]
  },
  {
   "cell_type": "code",
   "execution_count": 10,
   "id": "7ea8d846",
   "metadata": {},
   "outputs": [
    {
     "data": {
      "text/plain": [
       "(500, 3)"
      ]
     },
     "execution_count": 10,
     "metadata": {},
     "output_type": "execute_result"
    }
   ],
   "source": [
    "# dataframe shape\n",
    "data.shape"
   ]
  },
  {
   "cell_type": "code",
   "execution_count": 13,
   "id": "7b88da24",
   "metadata": {},
   "outputs": [
    {
     "data": {
      "text/plain": [
       "<bound method NDFrame.describe of           Date Category  Likes\n",
       "0   2021-01-01   Family   9833\n",
       "1   2021-01-02  Fashion   3410\n",
       "2   2021-01-03  Culture   2878\n",
       "3   2021-01-04  Fashion   3744\n",
       "4   2021-01-05     Food   6484\n",
       "..         ...      ...    ...\n",
       "495 2022-05-11     Food   6131\n",
       "496 2022-05-12    Music   4800\n",
       "497 2022-05-13  Fitness     70\n",
       "498 2022-05-14  Fashion   4270\n",
       "499 2022-05-15     Food   3540\n",
       "\n",
       "[500 rows x 3 columns]>"
      ]
     },
     "execution_count": 13,
     "metadata": {},
     "output_type": "execute_result"
    }
   ],
   "source": [
    "# dataframe description\n",
    "data.describe"
   ]
  },
  {
   "cell_type": "code",
   "execution_count": 19,
   "id": "99b1af23",
   "metadata": {},
   "outputs": [
    {
     "data": {
      "text/plain": [
       "Category\n",
       "Music      86\n",
       "Food       75\n",
       "Culture    74\n",
       "Fitness    73\n",
       "Health     67\n",
       "Family     63\n",
       "Fashion    62\n",
       "dtype: int64"
      ]
     },
     "execution_count": 19,
     "metadata": {},
     "output_type": "execute_result"
    }
   ],
   "source": [
    "# print the count of each category\n",
    "data.value_counts(data['Category'])"
   ]
  },
  {
   "cell_type": "markdown",
   "id": "6a16b82f",
   "metadata": {},
   "source": [
    "## Task 4 - Data Cleaning"
   ]
  },
  {
   "cell_type": "code",
   "execution_count": 21,
   "id": "b00a5b92",
   "metadata": {},
   "outputs": [
    {
     "data": {
      "text/plain": [
       "(500, 3)"
      ]
     },
     "execution_count": 21,
     "metadata": {},
     "output_type": "execute_result"
    }
   ],
   "source": [
    "# Remove nulls\n",
    "data = data.dropna()\n",
    "data.shape"
   ]
  },
  {
   "cell_type": "code",
   "execution_count": 22,
   "id": "f8209b57",
   "metadata": {},
   "outputs": [
    {
     "data": {
      "text/plain": [
       "(500, 3)"
      ]
     },
     "execution_count": 22,
     "metadata": {},
     "output_type": "execute_result"
    }
   ],
   "source": [
    "# Remove duplicates\n",
    "data = data.drop_duplicates()\n",
    "data.shape"
   ]
  },
  {
   "cell_type": "code",
   "execution_count": 24,
   "id": "eddf3287",
   "metadata": {},
   "outputs": [
    {
     "name": "stdout",
     "output_type": "stream",
     "text": [
      "<class 'pandas.core.frame.DataFrame'>\n",
      "Int64Index: 500 entries, 0 to 499\n",
      "Data columns (total 3 columns):\n",
      " #   Column    Non-Null Count  Dtype         \n",
      "---  ------    --------------  -----         \n",
      " 0   Date      500 non-null    datetime64[ns]\n",
      " 1   Category  500 non-null    object        \n",
      " 2   Likes     500 non-null    int32         \n",
      "dtypes: datetime64[ns](1), int32(1), object(1)\n",
      "memory usage: 13.7+ KB\n"
     ]
    }
   ],
   "source": [
    "# Convert the Date column into datetime\n",
    "data['Date'] = pd.to_datetime(data['Date'])\n",
    "data.info()"
   ]
  },
  {
   "cell_type": "code",
   "execution_count": 26,
   "id": "a2b95b4d",
   "metadata": {},
   "outputs": [
    {
     "name": "stdout",
     "output_type": "stream",
     "text": [
      "<class 'pandas.core.frame.DataFrame'>\n",
      "Int64Index: 500 entries, 0 to 499\n",
      "Data columns (total 3 columns):\n",
      " #   Column    Non-Null Count  Dtype         \n",
      "---  ------    --------------  -----         \n",
      " 0   Date      500 non-null    datetime64[ns]\n",
      " 1   Category  500 non-null    object        \n",
      " 2   Likes     500 non-null    int32         \n",
      "dtypes: datetime64[ns](1), int32(1), object(1)\n",
      "memory usage: 13.7+ KB\n"
     ]
    }
   ],
   "source": [
    "data['Likes'] = data['Likes'].astype('int')\n",
    "data.info()"
   ]
  },
  {
   "cell_type": "markdown",
   "id": "d014ffe6",
   "metadata": {},
   "source": [
    "## Task 5 - Visualize and Analyze the Data"
   ]
  },
  {
   "cell_type": "code",
   "execution_count": 62,
   "id": "909da5b0",
   "metadata": {},
   "outputs": [],
   "source": [
    "# setting the char area\n",
    "sb.set(rc={\"figure.figsize\":(10, 5)})"
   ]
  },
  {
   "cell_type": "code",
   "execution_count": 63,
   "id": "01b4e7d0",
   "metadata": {},
   "outputs": [
    {
     "data": {
      "image/png": "[encoded data removed]",
      "text/plain": [
       "<Figure size 1000x500 with 1 Axes>"
      ]
     },
     "metadata": {},
     "output_type": "display_data"
    }
   ],
   "source": [
    "# frequency distribution of likes\n",
    "sb.histplot(x = data['Likes'])\n",
    "plt.xlabel('No. of Likes')\n",
    "plt.title('Distribution of Likes')\n",
    "plt.show();"
   ]
  },
  {
   "cell_type": "code",
   "execution_count": 64,
   "id": "6fe37567",
   "metadata": {},
   "outputs": [
    {
     "data": {
      "image/png": "[encoded data removed]",
      "text/plain": [
       "<Figure size 1000x500 with 1 Axes>"
      ]
     },
     "metadata": {},
     "output_type": "display_data"
    }
   ],
   "source": [
    "# box plot for Categorywise Likes\n",
    "sb.boxplot(x = data['Likes'], y = data['Category'])\n",
    "plt.title('Categorywise Distribution of Likes')\n",
    "plt.show();"
   ]
  },
  {
   "cell_type": "code",
   "execution_count": 65,
   "id": "acb85838",
   "metadata": {},
   "outputs": [
    {
     "data": {
      "text/plain": [
       "4972.244"
      ]
     },
     "execution_count": 65,
     "metadata": {},
     "output_type": "execute_result"
    }
   ],
   "source": [
    "# average likes\n",
    "data['Likes'].mean()"
   ]
  },
  {
   "cell_type": "code",
   "execution_count": 75,
   "id": "ceed192e",
   "metadata": {},
   "outputs": [
    {
     "name": "stdout",
     "output_type": "stream",
     "text": [
      "Category\n",
      "Culture    5470.31\n",
      "Family     5021.90\n",
      "Fashion    5069.50\n",
      "Fitness    5035.33\n",
      "Food       4510.33\n",
      "Health     5034.94\n",
      "Music      4737.62\n",
      "Name: Likes, dtype: float64\n"
     ]
    }
   ],
   "source": [
    "# mean of each category\n",
    "avg_likes_per_category = round(data.groupby('Category')['Likes'].mean(), 2)\n",
    "print(avg_likes_per_category)"
   ]
  },
  {
   "cell_type": "markdown",
   "id": "391954d1",
   "metadata": {},
   "source": [
    "## Task 6 - Describe Conclusions"
   ]
  },
  {
   "cell_type": "code",
   "execution_count": null,
   "id": "f75e5d80",
   "metadata": {},
   "outputs": [],
   "source": []
  }
 ],
 "metadata": {
  "kernelspec": {
   "display_name": "Python 3 (ipykernel)",
   "language": "python",
   "name": "python3"
  },
  "language_info": {
   "codemirror_mode": {
    "name": "ipython",
    "version": 3
   },
   "file_extension": ".py",
   "mimetype": "text/x-python",
   "name": "python",
   "nbconvert_exporter": "python",
   "pygments_lexer": "ipython3",
   "version": "3.11.3"
  }
 },
 "nbformat": 4,
 "nbformat_minor": 5
}
